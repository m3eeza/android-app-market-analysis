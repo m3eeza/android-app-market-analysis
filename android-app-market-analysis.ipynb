{
 "cells": [
  {
   "cell_type": "code",
   "execution_count": 1,
   "metadata": {
    "scrolled": false
   },
   "outputs": [
    {
     "data": {
      "text/html": [
       "\n",
       "<script>\n",
       "  function code_toggle() {\n",
       "    if (code_shown){\n",
       "      $('div.input').hide('500');\n",
       "      $('#toggleButton').val('Show Code')\n",
       "    } else {\n",
       "      $('div.input').show('500');\n",
       "      $('#toggleButton').val('Hide Code')\n",
       "    }\n",
       "    code_shown = !code_shown\n",
       "  }\n",
       "\n",
       "  $( document ).ready(function(){\n",
       "    code_shown=false;\n",
       "    $('div.input').hide()\n",
       "  });\n",
       "</script>\n",
       "<form action=\"javascript:code_toggle()\"><input type=\"submit\" id=\"toggleButton\" value=\"Show Code\"></form>"
      ],
      "text/plain": [
       "<IPython.core.display.HTML object>"
      ]
     },
     "execution_count": 1,
     "metadata": {},
     "output_type": "execute_result"
    }
   ],
   "source": [
    "from IPython.display import HTML\n",
    "HTML('''\n",
    "<script>\n",
    "  function code_toggle() {\n",
    "    if (code_shown){\n",
    "      $('div.input').hide('500');\n",
    "      $('#toggleButton').val('Show Code')\n",
    "    } else {\n",
    "      $('div.input').show('500');\n",
    "      $('#toggleButton').val('Hide Code')\n",
    "    }\n",
    "    code_shown = !code_shown\n",
    "  }\n",
    "\n",
    "  $( document ).ready(function(){\n",
    "    code_shown=false;\n",
    "    $('div.input').hide()\n",
    "  });\n",
    "</script>\n",
    "<form action=\"javascript:code_toggle()\"><input type=\"submit\" id=\"toggleButton\" value=\"Show Code\"></form>''')"
   ]
  },
  {
   "cell_type": "markdown",
   "metadata": {},
   "source": [
    "![title](data/download-google-play-store.png)\n"
   ]
  },
  {
   "cell_type": "markdown",
   "metadata": {},
   "source": [
    "# Android App Market Analysis\n",
    "## Introduction:\n",
    "\n",
    "The importance of mobile phones in our everyday life and activities is undeniably unending. This is so because there is an ongoing tremendous transformation that mobile phones are no longer the ordinary communication device it used to be. It has become the colossal point of attention for individuals and businesses alike, courtesy of the various incredible features and opportunities that mobile phones offer. The cumulative progress of mobile technology, availability, and access to high-speed internet and the remarkable communicative interface in these devices result in a whole level of new and innovative experience mobile computing. This is made possible through the development of mobile applications (mobile apps).\n",
    "In this notebook we perform a comprehensive analysis on a dataset that contains 10,000 mobile apps and another data set contains 100 reviews for each app collected from google play store by www.kaggle.com to analyze people's attitude towards mobile apps based on many attributes such as price, category, size, and many other attributes.we start our analysis by data cleaning, making use of the data preprocessing techniques we've learned in the course, then we proceed with analyzing the relations between different attributes in our datasets.\n",
    "\n",
    "In the following sections we perform the following: \n",
    "\n",
    "* Data cleaning\n",
    "* Exploring app categories \n",
    "* App rating distribution \n",
    "* Relations between different attributes \n",
    "* popularity of paid apps vs free apps \n",
    "* Sentiment analysis of user reviews\n",
    "\n"
   ]
  },
  {
   "cell_type": "code",
   "execution_count": 2,
   "metadata": {
    "scrolled": false
   },
   "outputs": [],
   "source": [
    "%matplotlib inline\n",
    "import pandas as pd\n",
    "import numpy as np\n",
    "from matplotlib import pyplot as plt\n",
    "plt.style.use('ggplot')\n",
    "\n",
    "import seaborn as sns # for making plots with seaborn\n",
    "color = sns.color_palette()\n",
    "sns.set(rc={'figure.figsize':(25,15)}) #may remove it later\n",
    "\n",
    "#may remove it later\n",
    "# import plotly\n",
    "# # connected=True means it will download the latest version of plotly javascript library.\n",
    "# plotly.offline.init_notebook_mode(connected=True)\n",
    "# import plotly.graph_objs as go\n",
    "\n",
    "# import plotly.figure_factory as ff\n",
    "# import cufflinks as cf\n",
    "pd.set_option('display.notebook_repr_html', True)\n",
    "pd.set_option('display.max_columns', 20)\n",
    "pd.set_option('display.max_rows', 25)\n",
    "\n",
    "import warnings\n",
    "warnings.filterwarnings('ignore')"
   ]
  },
  {
   "cell_type": "markdown",
   "metadata": {},
   "source": [
    "## A sneak peek on our dataset\n",
    "Reading the dataset and showing a random sample of it."
   ]
  },
  {
   "cell_type": "code",
   "execution_count": 3,
   "metadata": {
    "scrolled": false
   },
   "outputs": [
    {
     "data": {
      "text/html": [
       "<div>\n",
       "<style scoped>\n",
       "    .dataframe tbody tr th:only-of-type {\n",
       "        vertical-align: middle;\n",
       "    }\n",
       "\n",
       "    .dataframe tbody tr th {\n",
       "        vertical-align: top;\n",
       "    }\n",
       "\n",
       "    .dataframe thead th {\n",
       "        text-align: right;\n",
       "    }\n",
       "</style>\n",
       "<table border=\"1\" class=\"dataframe\">\n",
       "  <thead>\n",
       "    <tr style=\"text-align: right;\">\n",
       "      <th></th>\n",
       "      <th>App</th>\n",
       "      <th>Category</th>\n",
       "      <th>Rating</th>\n",
       "      <th>Reviews</th>\n",
       "      <th>Size</th>\n",
       "      <th>Installs</th>\n",
       "      <th>Type</th>\n",
       "      <th>Price</th>\n",
       "      <th>Content Rating</th>\n",
       "      <th>Genres</th>\n",
       "      <th>Last Updated</th>\n",
       "      <th>Current Ver</th>\n",
       "      <th>Android Ver</th>\n",
       "    </tr>\n",
       "  </thead>\n",
       "  <tbody>\n",
       "    <tr>\n",
       "      <th>9382</th>\n",
       "      <td>ZOMBIE RIPPER</td>\n",
       "      <td>GAME</td>\n",
       "      <td>3.7</td>\n",
       "      <td>16073</td>\n",
       "      <td>94M</td>\n",
       "      <td>500,000+</td>\n",
       "      <td>Free</td>\n",
       "      <td>0</td>\n",
       "      <td>Mature 17+</td>\n",
       "      <td>Action</td>\n",
       "      <td>November 14, 2017</td>\n",
       "      <td>1.4</td>\n",
       "      <td>4.0 and up</td>\n",
       "    </tr>\n",
       "    <tr>\n",
       "      <th>2737</th>\n",
       "      <td>Extreme Coupon Finder</td>\n",
       "      <td>SHOPPING</td>\n",
       "      <td>4.1</td>\n",
       "      <td>11798</td>\n",
       "      <td>Varies with device</td>\n",
       "      <td>1,000,000+</td>\n",
       "      <td>Free</td>\n",
       "      <td>0</td>\n",
       "      <td>Everyone</td>\n",
       "      <td>Shopping</td>\n",
       "      <td>May 10, 2018</td>\n",
       "      <td>Varies with device</td>\n",
       "      <td>Varies with device</td>\n",
       "    </tr>\n",
       "    <tr>\n",
       "      <th>7351</th>\n",
       "      <td>tutti.ch - Free Classifieds</td>\n",
       "      <td>SHOPPING</td>\n",
       "      <td>4.4</td>\n",
       "      <td>9950</td>\n",
       "      <td>15M</td>\n",
       "      <td>500,000+</td>\n",
       "      <td>Free</td>\n",
       "      <td>0</td>\n",
       "      <td>Everyone</td>\n",
       "      <td>Shopping</td>\n",
       "      <td>July 18, 2018</td>\n",
       "      <td>3.7.1</td>\n",
       "      <td>4.1 and up</td>\n",
       "    </tr>\n",
       "    <tr>\n",
       "      <th>8634</th>\n",
       "      <td>File Viewer for Android</td>\n",
       "      <td>TOOLS</td>\n",
       "      <td>4.1</td>\n",
       "      <td>7063</td>\n",
       "      <td>Varies with device</td>\n",
       "      <td>1,000,000+</td>\n",
       "      <td>Free</td>\n",
       "      <td>0</td>\n",
       "      <td>Everyone</td>\n",
       "      <td>Tools</td>\n",
       "      <td>January 25, 2018</td>\n",
       "      <td>2.3.2</td>\n",
       "      <td>5.0 and up</td>\n",
       "    </tr>\n",
       "    <tr>\n",
       "      <th>4383</th>\n",
       "      <td>Hands 'n Guns Simulator</td>\n",
       "      <td>FAMILY</td>\n",
       "      <td>3.9</td>\n",
       "      <td>19727</td>\n",
       "      <td>76M</td>\n",
       "      <td>1,000,000+</td>\n",
       "      <td>Free</td>\n",
       "      <td>0</td>\n",
       "      <td>Teen</td>\n",
       "      <td>Simulation</td>\n",
       "      <td>July 3, 2018</td>\n",
       "      <td>32</td>\n",
       "      <td>4.1 and up</td>\n",
       "    </tr>\n",
       "  </tbody>\n",
       "</table>\n",
       "</div>"
      ],
      "text/plain": [
       "                              App  Category  Rating Reviews  \\\n",
       "9382                ZOMBIE RIPPER      GAME     3.7   16073   \n",
       "2737        Extreme Coupon Finder  SHOPPING     4.1   11798   \n",
       "7351  tutti.ch - Free Classifieds  SHOPPING     4.4    9950   \n",
       "8634      File Viewer for Android     TOOLS     4.1    7063   \n",
       "4383      Hands 'n Guns Simulator    FAMILY     3.9   19727   \n",
       "\n",
       "                    Size    Installs  Type Price Content Rating      Genres  \\\n",
       "9382                 94M    500,000+  Free     0     Mature 17+      Action   \n",
       "2737  Varies with device  1,000,000+  Free     0       Everyone    Shopping   \n",
       "7351                 15M    500,000+  Free     0       Everyone    Shopping   \n",
       "8634  Varies with device  1,000,000+  Free     0       Everyone       Tools   \n",
       "4383                 76M  1,000,000+  Free     0           Teen  Simulation   \n",
       "\n",
       "           Last Updated         Current Ver         Android Ver  \n",
       "9382  November 14, 2017                 1.4          4.0 and up  \n",
       "2737       May 10, 2018  Varies with device  Varies with device  \n",
       "7351      July 18, 2018               3.7.1          4.1 and up  \n",
       "8634   January 25, 2018               2.3.2          5.0 and up  \n",
       "4383       July 3, 2018                  32          4.1 and up  "
      ]
     },
     "execution_count": 3,
     "metadata": {},
     "output_type": "execute_result"
    }
   ],
   "source": [
    "np.random.seed(14)\n",
    "\n",
    "df = pd.read_csv('../android-app-market-analysis/data/googleplaystore.csv')\n",
    "\n",
    "df.sample(5)"
   ]
  },
  {
   "cell_type": "markdown",
   "metadata": {},
   "source": [
    "## Handling Missing Values"
   ]
  },
  {
   "cell_type": "code",
   "execution_count": 4,
   "metadata": {
    "scrolled": true
   },
   "outputs": [
    {
     "name": "stdout",
     "output_type": "stream",
     "text": [
      "Number of apps in the dataset :  10841 \n",
      "\n",
      "Number of apps in the dataset after removing duplicates:  9660 \n",
      "\n",
      "Numer of missing values per column:\n",
      "App                  0\n",
      "Category             0\n",
      "Rating            1463\n",
      "Reviews              0\n",
      "Size                 0\n",
      "Installs             0\n",
      "Type                 1\n",
      "Price                0\n",
      "Content Rating       1\n",
      "Genres               0\n",
      "Last Updated         0\n",
      "Current Ver          8\n",
      "Android Ver          3\n",
      "dtype: int64\n"
     ]
    }
   ],
   "source": [
    "print('Number of apps in the dataset : ' , len(df), '\\n')\n",
    "df.drop_duplicates(subset='App', inplace=True)\n",
    "print('Number of apps in the dataset after removing duplicates: ' , len(df),'\\n')\n",
    "\n",
    "# get the number of missing data points per column\n",
    "print(\"Numer of missing values per column:\")\n",
    "missing_values_count = df.isnull().sum()\n",
    "print(missing_values_count)"
   ]
  },
  {
   "cell_type": "markdown",
   "metadata": {},
   "source": [
    "### Precenatge of missing cells:"
   ]
  },
  {
   "cell_type": "code",
   "execution_count": 5,
   "metadata": {
    "scrolled": false
   },
   "outputs": [
    {
     "name": "stdout",
     "output_type": "stream",
     "text": [
      "1.175346392737697 %\n"
     ]
    }
   ],
   "source": [
    "# How many total missing values do we have?\n",
    "total_cells = df.size\n",
    "total_missing = missing_values_count.sum()\n",
    "\n",
    "# percent of data that is missing\n",
    "percentage_missign_values = (total_missing/total_cells) * 100\n",
    "print(percentage_missign_values, '%')"
   ]
  },
  {
   "cell_type": "markdown",
   "metadata": {},
   "source": [
    "Since this percentage (1.175346392737697 %) is to small we can safely drop null values without the need to do Imputation."
   ]
  },
  {
   "cell_type": "markdown",
   "metadata": {},
   "source": [
    "### Exploring the values in each column and their count to see if further cleaning is required for these values."
   ]
  },
  {
   "cell_type": "code",
   "execution_count": 6,
   "metadata": {
    "scrolled": false
   },
   "outputs": [
    {
     "name": "stdout",
     "output_type": "stream",
     "text": [
      "Fruit Cube Blast                                      1\n",
      "Tap The Easter Egg!                                   1\n",
      "Big Fish Casino – Play Slots & Vegas Games            1\n",
      "Apartments.com Rental Search                          1\n",
      "Web Browser & Explorer                                1\n",
      "BQ Partners                                           1\n",
      "EMT PASS                                              1\n",
      "Word Hunt                                             1\n",
      "Blurfoto : Auto blur photo background & DSLR focus    1\n",
      "FeaturePoints: Free Gift Cards                        1\n",
      "G-NetWiFi Pro                                         1\n",
      "Al Quran (Tafsir & by Word)                           1\n",
      "                                                     ..\n",
      "Citation du Jour - Motivation                         1\n",
      "LG AC Smart Diagnosis                                 1\n",
      "Meet – Talk to Strangers Using Random Video Chat      1\n",
      "EW Gate                                               1\n",
      "Allsetra B.V.                                         1\n",
      "El Dorado App                                         1\n",
      "Cx Wize                                               1\n",
      "DB Train Simulator                                    1\n",
      "Phone Clean Best Speed Booster                        1\n",
      "Car Racing game for Kids - Beepzz Dogs 🐕              1\n",
      "GRE® Flashcards by Kaplan                             1\n",
      "CX-10DS                                               1\n",
      "Name: App, Length: 9660, dtype: int64\n",
      "FAMILY                1832\n",
      "GAME                   959\n",
      "TOOLS                  827\n",
      "BUSINESS               420\n",
      "MEDICAL                395\n",
      "PERSONALIZATION        376\n",
      "PRODUCTIVITY           374\n",
      "LIFESTYLE              369\n",
      "FINANCE                345\n",
      "SPORTS                 325\n",
      "COMMUNICATION          315\n",
      "HEALTH_AND_FITNESS     288\n",
      "                      ... \n",
      "FOOD_AND_DRINK         112\n",
      "ENTERTAINMENT          102\n",
      "AUTO_AND_VEHICLES       85\n",
      "LIBRARIES_AND_DEMO      84\n",
      "WEATHER                 79\n",
      "HOUSE_AND_HOME          74\n",
      "ART_AND_DESIGN          64\n",
      "EVENTS                  64\n",
      "PARENTING               60\n",
      "COMICS                  56\n",
      "BEAUTY                  53\n",
      "1.9                      1\n",
      "Name: Category, Length: 34, dtype: int64\n",
      "4.3     897\n",
      "4.4     895\n",
      "4.5     848\n",
      "4.2     810\n",
      "4.6     683\n",
      "4.1     621\n",
      "4.0     513\n",
      "4.7     442\n",
      "3.9     359\n",
      "3.8     286\n",
      "5.0     271\n",
      "3.7     224\n",
      "       ... \n",
      "1.0      16\n",
      "2.2      14\n",
      "2.0      12\n",
      "1.9      11\n",
      "2.1       8\n",
      "1.7       8\n",
      "1.8       8\n",
      "1.6       4\n",
      "1.4       3\n",
      "1.5       3\n",
      "1.2       1\n",
      "19.0      1\n",
      "Name: Rating, Length: 40, dtype: int64\n",
      "0         593\n",
      "1         272\n",
      "2         213\n",
      "3         170\n",
      "4         137\n",
      "5         108\n",
      "6          94\n",
      "7          88\n",
      "8          72\n",
      "9          64\n",
      "10         62\n",
      "12         58\n",
      "         ... \n",
      "202474      1\n",
      "405         1\n",
      "520962      1\n",
      "4806        1\n",
      "465         1\n",
      "3522        1\n",
      "718         1\n",
      "63712       1\n",
      "1463        1\n",
      "8188        1\n",
      "40617       1\n",
      "24729       1\n",
      "Name: Reviews, Length: 5331, dtype: int64\n",
      "Varies with device    1227\n",
      "11M                    182\n",
      "12M                    181\n",
      "14M                    177\n",
      "13M                    177\n",
      "15M                    163\n",
      "17M                    146\n",
      "26M                    142\n",
      "16M                    137\n",
      "19M                    130\n",
      "10M                    128\n",
      "21M                    124\n",
      "                      ... \n",
      "240k                     1\n",
      "914k                     1\n",
      "496k                     1\n",
      "411k                     1\n",
      "55k                      1\n",
      "743k                     1\n",
      "350k                     1\n",
      "601k                     1\n",
      "965k                     1\n",
      "626k                     1\n",
      "458k                     1\n",
      "730k                     1\n",
      "Name: Size, Length: 462, dtype: int64\n",
      "1,000,000+        1417\n",
      "100,000+          1112\n",
      "10,000+           1031\n",
      "10,000,000+        937\n",
      "1,000+             888\n",
      "100+               710\n",
      "5,000,000+         607\n",
      "500,000+           505\n",
      "50,000+            469\n",
      "5,000+             468\n",
      "10+                385\n",
      "500+               328\n",
      "50+                204\n",
      "50,000,000+        202\n",
      "100,000,000+       188\n",
      "5+                  82\n",
      "1+                  67\n",
      "500,000,000+        24\n",
      "1,000,000,000+      20\n",
      "0+                  14\n",
      "Free                 1\n",
      "0                    1\n",
      "Name: Installs, dtype: int64\n",
      "Free    8902\n",
      "Paid     756\n",
      "0          1\n",
      "Name: Type, dtype: int64\n",
      "0          8903\n",
      "$0.99       145\n",
      "$2.99       124\n",
      "$1.99        73\n",
      "$4.99        70\n",
      "$3.99        57\n",
      "$1.49        46\n",
      "$5.99        26\n",
      "$2.49        25\n",
      "$9.99        19\n",
      "$399.99      12\n",
      "$6.99        11\n",
      "           ... \n",
      "$400.00       1\n",
      "$2.60         1\n",
      "$200.00       1\n",
      "$379.99       1\n",
      "$19.40        1\n",
      "$3.88         1\n",
      "$3.04         1\n",
      "$15.99        1\n",
      "$4.59         1\n",
      "$2.95         1\n",
      "$389.99       1\n",
      "$79.99        1\n",
      "Name: Price, Length: 93, dtype: int64\n",
      "Everyone           7903\n",
      "Teen               1036\n",
      "Mature 17+          393\n",
      "Everyone 10+        322\n",
      "Adults only 18+       3\n",
      "Unrated               2\n",
      "Name: Content Rating, dtype: int64\n",
      "Tools                                  826\n",
      "Entertainment                          561\n",
      "Education                              510\n",
      "Business                               420\n",
      "Medical                                395\n",
      "Personalization                        376\n",
      "Productivity                           374\n",
      "Lifestyle                              368\n",
      "Finance                                345\n",
      "Sports                                 331\n",
      "Communication                          315\n",
      "Action                                 299\n",
      "                                      ... \n",
      "Board;Pretend Play                       1\n",
      "Health & Fitness;Action & Adventure      1\n",
      "Tools;Education                          1\n",
      "Role Playing;Brain Games                 1\n",
      "Lifestyle;Pretend Play                   1\n",
      "Entertainment;Education                  1\n",
      "Art & Design;Pretend Play                1\n",
      "Strategy;Creativity                      1\n",
      "Parenting;Brain Games                    1\n",
      "Adventure;Brain Games                    1\n",
      "Communication;Creativity                 1\n",
      "Lifestyle;Education                      1\n",
      "Name: Genres, Length: 119, dtype: int64\n",
      "August 3, 2018        252\n",
      "August 2, 2018        230\n",
      "August 1, 2018        209\n",
      "July 31, 2018         204\n",
      "July 30, 2018         160\n",
      "July 26, 2018         135\n",
      "July 25, 2018         129\n",
      "July 24, 2018         121\n",
      "July 27, 2018         120\n",
      "August 6, 2018        115\n",
      "July 23, 2018         110\n",
      "July 18, 2018          98\n",
      "                     ... \n",
      "April 24, 2017          1\n",
      "November 25, 2014       1\n",
      "June 15, 2013           1\n",
      "January 15, 2014        1\n",
      "September 13, 2013      1\n",
      "February 13, 2015       1\n",
      "October 12, 2011        1\n",
      "January 13, 2015        1\n",
      "September 16, 2014      1\n",
      "December 29, 2014       1\n",
      "November 4, 2016        1\n",
      "August 6, 2017          1\n",
      "Name: Last Updated, Length: 1378, dtype: int64\n",
      "Varies with device    1055\n",
      "1.0                    799\n",
      "1.1                    260\n",
      "1.2                    176\n",
      "2.0                    149\n",
      "1.3                    140\n",
      "1.0.0                  133\n",
      "1.0.1                  115\n",
      "1.4                     87\n",
      "1.5                     80\n",
      "1.0.2                   78\n",
      "1.6                     64\n",
      "                      ... \n",
      "2.3.27                   1\n",
      "1.91                     1\n",
      "1.3.21                   1\n",
      "2.5.1.7592               1\n",
      "3.13.09                  1\n",
      "3.20.1                   1\n",
      "2.73.672                 1\n",
      "41.9                     1\n",
      "3.11.0                   1\n",
      "5.2.002                  1\n",
      "12.8.2-pi                1\n",
      "3.9.9                    1\n",
      "Name: Current Ver, Length: 2818, dtype: int64\n",
      "4.1 and up            2202\n",
      "4.0.3 and up          1395\n",
      "4.0 and up            1285\n",
      "Varies with device     990\n",
      "4.4 and up             818\n",
      "2.3 and up             616\n",
      "5.0 and up             512\n",
      "4.2 and up             372\n",
      "2.3.3 and up           273\n",
      "2.2 and up             239\n",
      "3.0 and up             231\n",
      "4.3 and up             221\n",
      "                      ... \n",
      "3.1 and up              10\n",
      "2.0.1 and up             7\n",
      "8.0 and up               6\n",
      "7.1 and up               3\n",
      "1.0 and up               2\n",
      "5.0 - 8.0                2\n",
      "4.0.3 - 7.1.1            2\n",
      "2.2 - 7.1.1              1\n",
      "5.0 - 7.1.1              1\n",
      "7.0 - 7.1.1              1\n",
      "4.1 - 7.1.1              1\n",
      "5.0 - 6.0                1\n",
      "Name: Android Ver, Length: 33, dtype: int64\n"
     ]
    }
   ],
   "source": [
    "for column in df.columns:\n",
    "    print(df[column].value_counts())"
   ]
  },
  {
   "cell_type": "markdown",
   "metadata": {},
   "source": [
    "Remove wrong values and type cast the string values into numerical values after removing extras in the strings to use it while exploring  the relations between the attributes."
   ]
  },
  {
   "cell_type": "code",
   "execution_count": 7,
   "metadata": {
    "scrolled": false
   },
   "outputs": [
    {
     "name": "stdout",
     "output_type": "stream",
     "text": [
      "<class 'numpy.float64'>\n"
     ]
    }
   ],
   "source": [
    "# Column: Installs -> Remove Wrong Values ('Free'), remove + and , then typecast it to float\n",
    "                \n",
    "df = df[df['Installs'] != 'Free']\n",
    "df['Installs'] = df['Installs'].apply(lambda x: x.replace('+', '') if '+' in str(x) else x)\n",
    "df['Installs'] = df['Installs'].apply(lambda x: x.replace(',', '') if ',' in str(x) else x)\n",
    "df['Installs'] = df['Installs'].apply(lambda x: float(x))\n",
    "print(type(df['Installs'][0]))"
   ]
  },
  {
   "cell_type": "code",
   "execution_count": 8,
   "metadata": {
    "scrolled": false
   },
   "outputs": [
    {
     "name": "stdout",
     "output_type": "stream",
     "text": [
      "App                       object\n",
      "Category                  object\n",
      "Rating                   float64\n",
      "Reviews                    int64\n",
      "Size                     float64\n",
      "Installs                 float64\n",
      "Type                      object\n",
      "Price                    float64\n",
      "Content Rating            object\n",
      "Genres                    object\n",
      "Last Updated      datetime64[ns]\n",
      "Current Ver               object\n",
      "Android Ver               object\n",
      "dtype: object\n"
     ]
    }
   ],
   "source": [
    "# Column: Size -> Remove 'M', Replace 'k' and divide by 1000 (1MB = 1000 KB)\n",
    "\n",
    "df['Size'] = df['Size'].apply(lambda x: str(x).replace('Varies with device', 'NaN'))\n",
    "\n",
    "df['Size'] = df['Size'].apply(lambda x: str(x).replace('M', ''))\n",
    "df['Size'] = df['Size'].apply(lambda x: str(x).replace(',', ''))\n",
    "df['Size'] = df['Size'].apply(lambda x: float(str(x).replace('k', '')) / 1000 if 'k' in str(x) else x)\n",
    "df['Size'] = df['Size'].apply(lambda x: float(x))\n",
    "\n",
    "# Column: Price -> Remove '$' sign\n",
    "df['Price'] = df['Price'].apply(lambda x: float(str(x).replace('$', '')))\n",
    "\n",
    "df['Reviews'] = df['Reviews'].apply(lambda x: int(x))\n",
    "\n",
    "# Column: Last_Updated \n",
    "df[\"Last Updated\"] = pd.to_datetime(df['Last Updated'])\n",
    "\n",
    "print(df.dtypes)"
   ]
  },
  {
   "cell_type": "markdown",
   "metadata": {},
   "source": [
    "## Exploratory Data Analysis\n",
    "After data cleaning, we perform a pair plot to examine the relation between each pair of attributes in our dataset.\n",
    "\n",
    "From this scatter plot we can infere the following: \n",
    " * Free apps have more installations.\n",
    " * The higher the rate of the app, the more installations regardless of whether the app is paid or not\n",
    " * The majority of app rating is between  4 and 5"
   ]
  },
  {
   "cell_type": "code",
   "execution_count": null,
   "metadata": {
    "scrolled": true
   },
   "outputs": [],
   "source": [
    "rating = df['Rating'].dropna()\n",
    "size = df['Size'].dropna()\n",
    "installs = np.log10(df['Installs'][df.Installs!=0].dropna()) #eliminate zeros f *or computing log\n",
    "reviews = np.log10(df['Reviews'][df.Reviews!=0].dropna()) #eliminate zeros for computing log\n",
    "app_type = df['Type'].dropna()\n",
    "price = df['Price']\n",
    "\n",
    "colors = [\"windows blue\", \"amber\", \"greyish\", \"faded green\", \"dusty purple\"]\n",
    "p = sns.pairplot(pd.DataFrame(list(zip(rating, size, reviews, installs, app_type, price)), \n",
    "                        columns=['Rating','Size', 'Reviews', 'Installs', 'Type', 'Price']), hue='Type', palette=sns.xkcd_palette(colors))"
   ]
  },
  {
   "cell_type": "markdown",
   "metadata": {},
   "source": [
    "### Exploring the number of apps per category \n",
    "\n",
    "The graph shows that family apps are the most ones to exist on the app store."
   ]
  },
  {
   "cell_type": "code",
   "execution_count": null,
   "metadata": {
    "scrolled": false
   },
   "outputs": [],
   "source": [
    "df['Category'].value_counts().plot(kind='barh',figsize= (16,8))\n",
    "title=plt.title('Number of Apps per category')"
   ]
  },
  {
   "cell_type": "markdown",
   "metadata": {},
   "source": [
    "### Inspecting the number of installations per each category \n",
    "One can see that despite Games are not the most apps to exist on the store, they're the most apps to be installed."
   ]
  },
  {
   "cell_type": "code",
   "execution_count": null,
   "metadata": {
    "scrolled": false
   },
   "outputs": [],
   "source": [
    "fig = plt.figure(figsize=(12,7))\n",
    "title=plt.title('Number of Installations per category')\n",
    "result = df.groupby([\"Category\"])['Installs'].aggregate(np.sum).reset_index().sort_values('Installs')\n",
    "bar=sns.barplot(y='Category',x='Installs', data=result, ci=None, order=result['Category'])\n",
    "plt.show(bar)"
   ]
  },
  {
   "cell_type": "markdown",
   "metadata": {},
   "source": [
    "### App rating distribution\n",
    "The histogram shows that most app ratings are pretty high.\n",
    "the average app rating is 4.17"
   ]
  },
  {
   "cell_type": "code",
   "execution_count": null,
   "metadata": {
    "scrolled": true
   },
   "outputs": [],
   "source": [
    "ig = plt.figure(figsize=(12,7))\n",
    "title=plt.title('Rating Distribution')\n",
    "hist=sns.distplot(df.Rating.dropna(),kde=True)\n",
    "print('Average app rating = ', np.mean(df.Rating))\n",
    "plt.show(hist)"
   ]
  },
  {
   "cell_type": "markdown",
   "metadata": {},
   "source": [
    "### How different Categories are rated ?\n",
    "A box plot graph is used here to analyse the ratings per category."
   ]
  },
  {
   "cell_type": "code",
   "execution_count": null,
   "metadata": {
    "scrolled": false
   },
   "outputs": [],
   "source": [
    "fig = plt.figure(figsize=(12,7))\n",
    "cat_rate = df.groupby(\"Category\").filter(lambda x: len(x) > 200)\n",
    "bar = sns.boxplot(x=\"Rating\", y=\"Category\", data=cat_rate)\n",
    "plt.show(bar)"
   ]
  },
  {
   "cell_type": "markdown",
   "metadata": {},
   "source": [
    "### Does the size of an apllication affect its rating ?\n",
    "We use a joint plot here to analyse the relation between the size of an app and its ratings. The graph shows that most applications lie in the low-size high-rating area."
   ]
  },
  {
   "cell_type": "code",
   "execution_count": null,
   "metadata": {
    "scrolled": false
   },
   "outputs": [],
   "source": [
    "plot = sns.jointplot(df.Size, df.Rating,size=8)"
   ]
  },
  {
   "cell_type": "markdown",
   "metadata": {},
   "source": [
    "### How does the pricing policy affect the rating of an application ?\n",
    "The graph shows that top-rated apps are mostly free or low-priced."
   ]
  },
  {
   "cell_type": "code",
   "execution_count": null,
   "metadata": {
    "scrolled": true
   },
   "outputs": [],
   "source": [
    "plot = sns.jointplot(df.Price, df.Rating,size=8)"
   ]
  },
  {
   "cell_type": "markdown",
   "metadata": {},
   "source": [
    "### How different app categories are priced \n",
    "The following graph shows the relation between different categories and the application price. We can see that specific categories, such as art and design, or house and home, tend to have lower prices, while other categories such as game, family, and medical, tend to have higher prices."
   ]
  },
  {
   "cell_type": "code",
   "execution_count": null,
   "metadata": {
    "scrolled": true
   },
   "outputs": [],
   "source": [
    "\n",
    "fig = plt.figure(figsize=(12,7))\n",
    "result = df.groupby([\"Category\"])['Price'].aggregate(np.mean).reset_index().sort_values('Price')\n",
    "# bar=sns.barplot(y='Category',x='Price', data=result, ci=None, order=result['Category'])\n",
    "bar=sns.stripplot(y='Category',x='Price', data=df)\n",
    "plt.show(bar)"
   ]
  },
  {
   "cell_type": "markdown",
   "metadata": {},
   "source": [
    "### Average price per category\n",
    "We analyse the average prices of each category in the following graph. We can see that on average Finance applications tend to have the highest price"
   ]
  },
  {
   "cell_type": "code",
   "execution_count": null,
   "metadata": {
    "scrolled": true
   },
   "outputs": [],
   "source": [
    "fig = plt.figure(figsize=(12,7))\n",
    "title=plt.title('Average Price Per Category')\n",
    "result = df.groupby([\"Category\"])['Price'].aggregate(np.mean).reset_index().sort_values('Price')\n",
    "bar=sns.barplot(y='Category',x='Price', data=result, ci=None, order=result['Category'])\n",
    "plt.show(bar)"
   ]
  },
  {
   "cell_type": "markdown",
   "metadata": {},
   "source": [
    "### How app sizes vary between different categories  \n",
    "We analyse the average application size per category. As the graph shows, on average, games tend to have the highest application size among the other categories."
   ]
  },
  {
   "cell_type": "code",
   "execution_count": null,
   "metadata": {
    "scrolled": false
   },
   "outputs": [],
   "source": [
    "fig = plt.figure(figsize=(12,7))\n",
    "title=plt.title('Average Size (MB) Per Category')\n",
    "result = df.groupby([\"Category\"])['Size'].aggregate(np.mean).reset_index().sort_values('Size')\n",
    "bar=sns.barplot(y='Category',x='Size', data=result, ci=None, order=result['Category'])\n",
    "plt.show(bar)"
   ]
  },
  {
   "cell_type": "markdown",
   "metadata": {},
   "source": [
    "## 400\\\\$ Apps ?  \n",
    "The following table shows the most expensive apps in the dataset. One can easily see that most of them are junk apps that should be removed from that dataset."
   ]
  },
  {
   "cell_type": "code",
   "execution_count": null,
   "metadata": {
    "scrolled": false
   },
   "outputs": [],
   "source": [
    "df[['Category', 'App','Price']][df.Price > 200]"
   ]
  },
  {
   "cell_type": "code",
   "execution_count": null,
   "metadata": {
    "scrolled": false
   },
   "outputs": [],
   "source": [
    "df = df[df.Price < 100]"
   ]
  },
  {
   "cell_type": "markdown",
   "metadata": {},
   "source": [
    "## Free or Paid ?\n",
    "We analyse the percentage of free vs paid apps. As the graph below shows, paid apps represent only 8% of the applications, while free apps represent 92% of the applications\n"
   ]
  },
  {
   "cell_type": "code",
   "execution_count": null,
   "metadata": {
    "scrolled": false
   },
   "outputs": [],
   "source": [
    "fig = plt.figure(figsize = (7,7))\n",
    "labels = ['Free', 'Paid'] \n",
    "size = df['Type'].value_counts()\n",
    "explode = [0, 0.1]\n",
    "\n",
    "plt.pie(size, labels = labels, explode = explode, shadow = True, startangle = 90, autopct='%1.0f%%')\n",
    "plt.title('Free Apps vs Paid Apps', fontsize = 15)\n",
    "plt.legend()\n",
    "plt.show()"
   ]
  },
  {
   "cell_type": "markdown",
   "metadata": {},
   "source": [
    "## Who has the most Installations \n",
    "We analyse the number of installations according to whether an application is free or paid. The vertical axis is log-scaled. As the graph shows, free apps have more installations than paid apps."
   ]
  },
  {
   "cell_type": "code",
   "execution_count": null,
   "metadata": {
    "scrolled": false
   },
   "outputs": [],
   "source": [
    "fig = plt.figure(figsize=(12,7))\n",
    "title=plt.title('Number of Installations per Type (log-scaled)')\n",
    "result = df.groupby([\"Type\"])['Installs'].aggregate(np.sum).reset_index().sort_values('Installs')\n",
    "bar=sns.barplot(x='Type',y=np.log(result.Installs), data=result, ci=None, order=result['Type'])\n",
    "plt.show(bar)"
   ]
  },
  {
   "cell_type": "markdown",
   "metadata": {},
   "source": [
    "## Rating vs payment-policy\n",
    "As the graph shows, the average ratings for both free and paid apps tend to be very close to each other."
   ]
  },
  {
   "cell_type": "code",
   "execution_count": null,
   "metadata": {
    "scrolled": true
   },
   "outputs": [],
   "source": [
    "fig = plt.figure(figsize=(12,7))\n",
    "title=plt.title('Average Rating per Type')\n",
    "result = df.groupby([\"Type\"])['Rating'].aggregate(np.mean).reset_index().sort_values('Rating')\n",
    "bar=sns.barplot(x='Type',y=result.Rating, data=result, ci=None, order=result['Type'])\n",
    "plt.show(bar)"
   ]
  },
  {
   "cell_type": "markdown",
   "metadata": {},
   "source": [
    "We analyse the installation per ratings. We draw two lines indicating whether the application is free or paid"
   ]
  },
  {
   "cell_type": "code",
   "execution_count": null,
   "metadata": {
    "scrolled": true
   },
   "outputs": [],
   "source": [
    "sns.relplot(x=\"Rating\", y=\"Installs\", hue = 'Type' , kind = 'line' , data=df)"
   ]
  },
  {
   "cell_type": "markdown",
   "metadata": {},
   "source": [
    "## Feature Correlation\n",
    "We draw a heatmap to analyse the correlation between different attributes. We examined rating, reviews, size, installs, and price, and analysed the correlation between them. Reviews and installs show high correlation while other parameters show fairly low correlation."
   ]
  },
  {
   "cell_type": "code",
   "execution_count": null,
   "metadata": {
    "scrolled": false
   },
   "outputs": [],
   "source": [
    "corr_mat = df.corr()\n",
    "sns.heatmap(corr_mat, annot=True, cmap=sns.diverging_palette(220, 20, as_cmap=True))"
   ]
  },
  {
   "cell_type": "markdown",
   "metadata": {},
   "source": [
    "## Sentiment Analyis for user reviews\n",
    "At this stage we analyse the user reviews dataset"
   ]
  },
  {
   "cell_type": "code",
   "execution_count": null,
   "metadata": {
    "scrolled": false
   },
   "outputs": [],
   "source": [
    "reviews_df = pd.read_csv('../android-app-market-analysis/data/googleplaystore_user_reviews.csv')\n",
    "merged_df = pd.merge(df, reviews_df, on = \"App\", how = \"inner\")\n",
    "merged_df = merged_df.dropna(subset=['Sentiment', 'Translated_Review'])"
   ]
  },
  {
   "cell_type": "markdown",
   "metadata": {},
   "source": [
    "Using box plot graphs, we analyse the different sentiment polarity between different applications categorising them according to free and paid categories"
   ]
  },
  {
   "cell_type": "code",
   "execution_count": null,
   "metadata": {
    "scrolled": false
   },
   "outputs": [],
   "source": [
    "fig, ax = plt.subplots()\n",
    "fig.set_size_inches(11, 8)\n",
    "ax = sns.boxplot(x='Type', y='Sentiment_Polarity', data=merged_df)\n",
    "title = ax.set_title('Sentiment Polarity Distribution')"
   ]
  },
  {
   "cell_type": "markdown",
   "metadata": {},
   "source": [
    "We attempt to generate a word cloud to analyse the frequency of words in the reviews. We eliminate stop words from the reviews, as well as invalid reviews. We remove all the dots to be able to split the reviews into words correctly"
   ]
  },
  {
   "cell_type": "code",
   "execution_count": null,
   "metadata": {
    "scrolled": false
   },
   "outputs": [],
   "source": [
    "from wordcloud import WordCloud\n",
    "wc = WordCloud(background_color=\"white\", max_words=500, colormap=\"Set2\")\n",
    "# generate word cloud\n",
    "\n",
    "from nltk.corpus import stopwords\n",
    "stop = stopwords.words('english')\n",
    "stop = stop + ['app', 'APP' ,'ap', 'App', 'apps', 'application', 'browser', 'website', 'websites', 'chrome', 'click', 'web', 'ip', 'address',\n",
    "            'files', 'android', 'browse', 'service', 'use', 'one', 'download', 'email', 'Launcher']\n",
    "\n",
    "merged_df['Translated_Review'] = merged_df['Translated_Review'].apply(lambda x: \" \".join(x for x in str(x).split(' ') if x not in stop))\n",
    "merged_df.Translated_Review = merged_df.Translated_Review.apply(lambda x: x.replace('.', ''))\n",
    "merged_df.Translated_Review = merged_df.Translated_Review.apply(lambda x: x if 'app' not in x.split(' ') else np.nan)\n",
    "merged_df.dropna(subset=['Translated_Review'], inplace=True)"
   ]
  },
  {
   "cell_type": "markdown",
   "metadata": {},
   "source": [
    "We then create a word cloud to analyse the most common words in reviews on free apps"
   ]
  },
  {
   "cell_type": "code",
   "execution_count": null,
   "metadata": {
    "scrolled": false
   },
   "outputs": [],
   "source": [
    "free = merged_df.loc[merged_df.Type=='Free']['Translated_Review'].apply(lambda x: '' if x=='nan' else x)\n",
    "wc.generate(''.join(str(free)))\n",
    "plt.figure(figsize=(10, 15))\n",
    "plt.title('Most Common Words in Free Apps Reviews')\n",
    "plt.imshow(wc, interpolation='bilinear')\n",
    "plt.axis(\"off\")\n",
    "plt.show()"
   ]
  },
  {
   "cell_type": "markdown",
   "metadata": {},
   "source": [
    "And we also generate a word cloud to indicate the most common words in reviews on paid apps"
   ]
  },
  {
   "cell_type": "code",
   "execution_count": null,
   "metadata": {
    "scrolled": false
   },
   "outputs": [],
   "source": [
    "paid = merged_df.loc[merged_df.Type=='Paid']['Translated_Review'].apply(lambda x: '' if x=='nan' else x)\n",
    "wc.generate(''.join(str(paid)))\n",
    "plt.figure(figsize=(10, 15))\n",
    "plt.title('Most Common Words in Paid Apps Reviews')\n",
    "plt.imshow(wc, interpolation='bilinear')\n",
    "plt.axis(\"off\")\n",
    "plt.show()"
   ]
  },
  {
   "cell_type": "markdown",
   "metadata": {},
   "source": [
    "## Conclusion\n",
    "\n",
    "We have analysed the applications, reviews, and observed the following:\n",
    "\n",
    "\n",
    "* The Average rating of apps on Google Play Store is 4.17.\n",
    "* In general, users prefer apps that are light-weighted.\n",
    "* Most of the top rated apps are optimally sized between ~2MB to ~40MB - not too light not too heavy.\n",
    "* Most of the top rated apps are optimally priced between \\~1\\\\$ to \\~30 \\\\$ - neither too cheap nor too expensive.\n",
    "* Medical and Family apps are the most expensive sometimes even extend upto 80\\\\$.\n",
    "* Users tend to install a given app more if it has been reviewed by a large number of people.\n",
    "\n",
    "* Free applications tend to have a higher number of installations. We have also observed that whether an application is paid or not does not necessarily affect the average rating.\n",
    "\n",
    "* Certain categories, such as the Family category, tend to have the highest number of applications.  \n",
    "* Finance, Lifestyle, and Medical categories tend to have the applications with the highest average prices.\n",
    "\n",
    "* Game category tends to have the applications with the biggest size.\n",
    "\n",
    "* Users are more cruel and harsh while reviewing free apps compared to paid apps.\n"
   ]
  },
  {
   "cell_type": "code",
   "execution_count": null,
   "metadata": {},
   "outputs": [],
   "source": []
  }
 ],
 "metadata": {
  "kernelspec": {
   "display_name": "Python 3",
   "language": "python",
   "name": "python3"
  },
  "language_info": {
   "codemirror_mode": {
    "name": "ipython",
    "version": 3
   },
   "file_extension": ".py",
   "mimetype": "text/x-python",
   "name": "python",
   "nbconvert_exporter": "python",
   "pygments_lexer": "ipython3",
   "version": "3.6.5"
  }
 },
 "nbformat": 4,
 "nbformat_minor": 2
}
